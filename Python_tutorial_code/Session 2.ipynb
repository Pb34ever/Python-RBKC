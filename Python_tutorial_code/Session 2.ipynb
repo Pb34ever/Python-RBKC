{
 "cells": [
  {
   "cell_type": "code",
   "execution_count": null,
   "metadata": {},
   "outputs": [],
   "source": []
  },
  {
   "cell_type": "code",
   "execution_count": 35,
   "metadata": {},
   "outputs": [
    {
     "name": "stdout",
     "output_type": "stream",
     "text": [
      "['red', 'blue', 'green', 'teal']\n",
      "['red', 'blue', 'green', 'teal', 'puple']\n",
      "teal\n",
      "['red', 'blue', 'green', 'teal', 'puple', ['turquoise', 'teal'], 'turquoise', 'teal']\n",
      "['red', 'blue', 'green', 'puple', ['turquoise', 'teal'], 'turquoise', 'teal']\n",
      "['red', 'blue', 'green', 'puple', ['turquoise', 'teal'], 'turquoise']\n"
     ]
    }
   ],
   "source": [
    "colour = \"teal\"\n",
    "\n",
    "colours = [\"red\", \"blue\", \"green\", colour]\n",
    "print(colours)\n",
    "\n",
    "colours.append('puple')\n",
    "print(colours)\n",
    "\n",
    "extra_colours = ['turquoise', \"teal\"]\n",
    "colours.append(extra_colours)\n",
    "print(colours[-1][1])\n",
    "\n",
    "colours.extend(extra_colours)\n",
    "print(colours)\n",
    "\n",
    "colours.remove('teal')\n",
    "print(colours)\n",
    "colours.remove('teal')\n",
    "print(colours)"
   ]
  },
  {
   "cell_type": "code",
   "execution_count": null,
   "metadata": {},
   "outputs": [],
   "source": [
    "[13:41] William Levack-Payne\n",
    "# In this cell, make a list of a few foods and print it.\n",
    "# Then extend the list with another food and print it.\n",
    "# Next, make another list of foods, and use the extend method to \n",
    "# add those extra foods as individual elements of the list, and print it.\n",
    "# Finally, remove and element from the list and print the final list.\n",
    "# Remember to always use a suitable name for your lists!\n",
    "[13:50] William Levack-Payne\n",
    "colour = \"teal\"\n",
    "colours = [\"red\", \"blue\", \"green\", colour]\n",
    "print(colours)\n",
    "colours.append('puple')\n",
    "print(colours)\n",
    "extra_colours = ['turquoise', \"teal\"]\n",
    "colours.append(extra_colours)\n",
    "print(colours[-1][1])\n",
    "colours.extend(extra_colours)\n",
    "print(colours)\n",
    "colours.remove('teal')\n",
    "print(colours)\n",
    "colours.remove('teal')\n",
    "print(colours)\n",
    "# In this cell, make a list of a few foods and print it.\n",
    "food_list = [\"burger\", \"pizza\", \"pasta\"]\n",
    "# Then extend the list with another food and print it.\n",
    "food_list.append(\"pasty\")\n",
    "# Next, make another list of foods, and use the extend method to \n",
    "# add those extra foods as individual elements of the list, and print it.\n",
    "more_foods = [\"chocolate\", \"crackers\"]\n",
    "food_list.extend(more_foods)\n",
    "food_list.extend([\"cabbage\", \"sausages\"])\n",
    "\n",
    "# Finally, remove and element from the list and print the final list.\n",
    "# Remember to always use a suitable name for your lists!\n",
    "food_list.remove(\"crackers\")\n",
    "print(food_list)"
   ]
  },
  {
   "cell_type": "code",
   "execution_count": 37,
   "metadata": {},
   "outputs": [
    {
     "name": "stdout",
     "output_type": "stream",
     "text": [
      "['cake', 'biscuit', 'figs', ['house', 'colour']]\n",
      "['cake', 'biscuit', ['house', 'colour'], 'Apples']\n"
     ]
    }
   ],
   "source": [
    "Food_list = [\"cake\", \"biscuit\", \"figs\"]\n",
    "\n",
    "Extra = [\"house\", \"colour\"]\n",
    "\n",
    "Food_list.append(Extra)\n",
    "print(Food_list)\n",
    "\n",
    "Apples = \"Apples\"\n",
    "\n",
    "Food_list.append (\"Apples\")\n",
    "\n",
    "Food_list.remove(\"figs\")\n",
    "\n",
    "print(Food_list)"
   ]
  },
  {
   "cell_type": "code",
   "execution_count": 48,
   "metadata": {},
   "outputs": [
    {
     "name": "stdout",
     "output_type": "stream",
     "text": [
      "[9, 8, 7, 6, 5, 4, 3, 3, 2]\n",
      "[9, 8, 7, 6, 5, 4, 3, 3, 2]\n"
     ]
    }
   ],
   "source": [
    "Num_list = [3,4,5,2,6,9,8,7,3]\n",
    "Num_list.sort()\n",
    "Num_list.sort (reverse=True)\n",
    "print(Num_list)\n",
    "print(Num_list)"
   ]
  },
  {
   "cell_type": "code",
   "execution_count": 44,
   "metadata": {},
   "outputs": [
    {
     "name": "stdout",
     "output_type": "stream",
     "text": [
      "['colour', 'house']\n"
     ]
    }
   ],
   "source": [
    "Extra.sort()\n",
    "print(Extra)"
   ]
  },
  {
   "cell_type": "code",
   "execution_count": 50,
   "metadata": {},
   "outputs": [
    {
     "name": "stdout",
     "output_type": "stream",
     "text": [
      "['burger', 'cabbage', 'chocolate', 'pasta', 'pasty', 'pizza', 'sausages']\n",
      "['burger', 'cabbage', 'chocolate', 'pasta', 'pasty', 'pizza', 'sausages']\n",
      "['sausages', 'pizza', 'pasty', 'pasta', 'chocolate', 'cabbage', 'burger']\n"
     ]
    }
   ],
   "source": [
    "foods_list = [ 'pasta', 'pasty', 'pizza', 'sausages', 'burger', 'cabbage', 'chocolate']\n",
    "sorted_food = sorted(foods_list)\n",
    "foods_list.sort()\n",
    "print(sorted_food)\n",
    "print(foods_list)\n",
    "\n",
    "foods_list.sort(reverse=True)\n",
    "print(foods_list)"
   ]
  },
  {
   "cell_type": "code",
   "execution_count": 74,
   "metadata": {},
   "outputs": [
    {
     "name": "stdout",
     "output_type": "stream",
     "text": [
      "<built-in method items of dict object at 0x7444142684c0>\n"
     ]
    }
   ],
   "source": [
    "fav_colours = {\"Kwame\":\"Blue\", \"Jo\":[\"Green\",\"Red\",\"Blue\"], \"Adr\":{\"monday\":\"Yellow\",\"sunday\": \"Purple\"}}\n",
    "fav_colours\n",
    "print(fav_colours.items)"
   ]
  },
  {
   "cell_type": "code",
   "execution_count": 107,
   "metadata": {},
   "outputs": [
    {
     "name": "stdout",
     "output_type": "stream",
     "text": [
      "{'Kwame': 'Pizza', 'Jo': ['Caribbean', 'Vegan', 'Chicken'], 'Adr': {'Tjays': 'burgers', 'Mcds': 'chips'}}\n",
      "{'Kwame': 'Pizza', 'Jo': ['Caribbean', 'Vegan', 'Chicken'], 'Adr': {'Tjays': 'burgers', 'Mcds': 'chips'}, 'Gem': ['gold', 'silver', ['sausages', 'pizza', 'pasty', 'pasta', 'chocolate', 'cabbage', 'burger']]}\n"
     ]
    }
   ],
   "source": [
    "fav_Rest = {\"Kwame\":\"Pizza\", \"Jo\":[\"Caribbean\",\"Vegan\",\"Chicken\"], \"Adr\":{\"Tjays\":\"burgers\",\"Mcds\": \"chips\"}}\n",
    "print(fav_Rest)\n",
    "fav_Rest ['Gem'] = [\"gold\", \"silver\", foods_list]\n",
    "print(fav_Rest)"
   ]
  },
  {
   "cell_type": "code",
   "execution_count": 114,
   "metadata": {},
   "outputs": [
    {
     "name": "stdout",
     "output_type": "stream",
     "text": [
      "{'Tjays': 'burgers', 'Mcds': 'chips'}\n"
     ]
    }
   ],
   "source": [
    "food_dict = {\"The Pub\":foods_list,\n",
    "             \"The Chippy\":[\"Fish\", \"Chips\", \"Battered Mars Bars\"],\n",
    "             \"Fine Dining\":{\"Week days\":\"standard menu\",\n",
    "                            \"Fridays and Weekends\":\"Tasting Menu\"}}\n",
    "print(fav_Rest[\"Adr\"])"
   ]
  },
  {
   "cell_type": "code",
   "execution_count": null,
   "metadata": {},
   "outputs": [],
   "source": []
  }
 ],
 "metadata": {
  "kernelspec": {
   "display_name": "Python 3",
   "language": "python",
   "name": "python3"
  },
  "language_info": {
   "codemirror_mode": {
    "name": "ipython",
    "version": 3
   },
   "file_extension": ".py",
   "mimetype": "text/x-python",
   "name": "python",
   "nbconvert_exporter": "python",
   "pygments_lexer": "ipython3",
   "version": "3.10.13"
  }
 },
 "nbformat": 4,
 "nbformat_minor": 2
}
