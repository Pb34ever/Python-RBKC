{
 "cells": [
  {
   "cell_type": "code",
   "execution_count": 14,
   "metadata": {},
   "outputs": [
    {
     "name": "stdout",
     "output_type": "stream",
     "text": [
      "24 4 10\n",
      "40\n"
     ]
    }
   ],
   "source": [
    "x = 4\n",
    "y = 10\n",
    "z = x + y\n",
    "print(z+y,x,y)\n",
    "print (x*y)"
   ]
  },
  {
   "cell_type": "code",
   "execution_count": null,
   "metadata": {},
   "outputs": [],
   "source": []
  },
  {
   "cell_type": "code",
   "execution_count": 6,
   "metadata": {},
   "outputs": [
    {
     "name": "stdout",
     "output_type": "stream",
     "text": [
      "11\n"
     ]
    }
   ],
   "source": [
    "i = 2\n",
    "j = 9\n",
    "print(i+j)"
   ]
  },
  {
   "cell_type": "code",
   "execution_count": 18,
   "metadata": {},
   "outputs": [
    {
     "name": "stdout",
     "output_type": "stream",
     "text": [
      "12.56\n"
     ]
    }
   ],
   "source": [
    "radius = 2\n",
    "pi = 3.14\n",
    "area = pi * (radius**2)\n",
    "print(area)"
   ]
  },
  {
   "cell_type": "code",
   "execution_count": 25,
   "metadata": {},
   "outputs": [
    {
     "name": "stdout",
     "output_type": "stream",
     "text": [
      "kwame 3 badminton\n"
     ]
    }
   ],
   "source": [
    "name = \"kwame\"\n",
    "hobby = \" 3 badminton\"\n",
    "outcome = name+hobby\n",
    "print (outcome)"
   ]
  },
  {
   "cell_type": "code",
   "execution_count": 41,
   "metadata": {},
   "outputs": [
    {
     "name": "stdout",
     "output_type": "stream",
     "text": [
      "my name is: kwame, and I like badminton i am 42\n"
     ]
    }
   ],
   "source": [
    "name = \"kwame\"\n",
    "hobby = \"badminton\"\n",
    "outcome = f\"my name is: {name}, and I like {hobby} i am {40+2}\"\n",
    "print (outcome)"
   ]
  },
  {
   "cell_type": "code",
   "execution_count": 59,
   "metadata": {},
   "outputs": [
    {
     "name": "stdout",
     "output_type": "stream",
     "text": [
      "2\n",
      "12345\n",
      "987654321\n"
     ]
    }
   ],
   "source": [
    "test = \"happ@uupo.co.uk\"\n",
    "num_string = \"123456789\"\n",
    "substring = num_string[1]\n",
    "subsrange = num_string[0:5]\n",
    "print(substring)\n",
    "\n",
    "print(subsrange)\n",
    "\n",
    "reverse = num_string[-1::-1]\n",
    "print(Reverse)"
   ]
  },
  {
   "cell_type": "code",
   "execution_count": 77,
   "metadata": {},
   "outputs": [
    {
     "name": "stdout",
     "output_type": "stream",
     "text": [
      "dog \n",
      "cat\n",
      "racoon\n",
      "dog cat \n",
      "mog\n",
      "rat\n",
      "balloon\n"
     ]
    }
   ],
   "source": [
    "test = \"dog cat racoon\"\n",
    "dog = test[0:4]\n",
    "Cat = test[4:7]\n",
    "Racoon = test[8:19]\n",
    "print(dog)\n",
    "print(Cat)\n",
    "\n",
    "print(Racoon)\n",
    "\n",
    "print(test[0:8])\n",
    "\n",
    "slice_this_phrase = 'mog rat balloon'\n",
    "\n",
    "print(slice_this_phrase[:3])\n",
    "print(slice_this_phrase[4:7])\n",
    "print(slice_this_phrase[-7:])\n"
   ]
  },
  {
   "cell_type": "code",
   "execution_count": null,
   "metadata": {},
   "outputs": [],
   "source": []
  }
 ],
 "metadata": {
  "kernelspec": {
   "display_name": "Python 3",
   "language": "python",
   "name": "python3"
  },
  "language_info": {
   "codemirror_mode": {
    "name": "ipython",
    "version": 3
   },
   "file_extension": ".py",
   "mimetype": "text/x-python",
   "name": "python",
   "nbconvert_exporter": "python",
   "pygments_lexer": "ipython3",
   "version": "3.10.13"
  }
 },
 "nbformat": 4,
 "nbformat_minor": 2
}
